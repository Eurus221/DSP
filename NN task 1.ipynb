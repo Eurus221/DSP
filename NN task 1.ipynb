{
 "cells": [
  {
   "cell_type": "markdown",
   "id": "fd16b7b3",
   "metadata": {},
   "source": [
    "# Task 1"
   ]
  },
  {
   "cell_type": "markdown",
   "id": "f8355284",
   "metadata": {},
   "source": [
    "## Preprocessing\n"
   ]
  },
  {
   "cell_type": "code",
   "execution_count": 1,
   "id": "faf0e6b7",
   "metadata": {},
   "outputs": [
    {
     "name": "stderr",
     "output_type": "stream",
     "text": [
      "c:\\Users\\sian\\anaconda3\\Lib\\site-packages\\pandas\\core\\arrays\\masked.py:60: UserWarning: Pandas requires version '1.3.6' or newer of 'bottleneck' (version '1.3.5' currently installed).\n",
      "  from pandas.core import (\n"
     ]
    },
    {
     "name": "stdout",
     "output_type": "stream",
     "text": [
      "Index(['gender', 'body_mass', 'beak_length', 'beak_depth', 'fin_length',\n",
      "       'bird category'],\n",
      "      dtype='object')\n"
     ]
    }
   ],
   "source": [
    "import pandas as pd\n",
    "import numpy as np\n",
    "from sklearn.preprocessing import LabelEncoder,MinMaxScaler\n",
    "from sklearn.model_selection import train_test_split\n",
    "import matplotlib.pyplot as plt\n",
    "bird_data = pd.read_csv('birds.csv')\n",
    "print(bird_data.columns)"
   ]
  },
  {
   "cell_type": "code",
   "execution_count": 2,
   "id": "ab4ab41b",
   "metadata": {},
   "outputs": [
    {
     "data": {
      "text/plain": [
       "gender           6\n",
       "body_mass        0\n",
       "beak_length      0\n",
       "beak_depth       0\n",
       "fin_length       0\n",
       "bird category    0\n",
       "dtype: int64"
      ]
     },
     "execution_count": 2,
     "metadata": {},
     "output_type": "execute_result"
    }
   ],
   "source": [
    "#checking nulls\n",
    "bird_data.isnull().sum()"
   ]
  },
  {
   "cell_type": "code",
   "execution_count": 3,
   "id": "4b52e22d",
   "metadata": {},
   "outputs": [
    {
     "data": {
      "text/plain": [
       "gender           0\n",
       "body_mass        0\n",
       "beak_length      0\n",
       "beak_depth       0\n",
       "fin_length       0\n",
       "bird category    0\n",
       "dtype: int64"
      ]
     },
     "execution_count": 3,
     "metadata": {},
     "output_type": "execute_result"
    }
   ],
   "source": [
    "bird_data['gender'] = bird_data['gender'].fillna(bird_data['gender'].mode()[0])\n",
    "bird_data.isnull().sum()"
   ]
  },
  {
   "cell_type": "code",
   "execution_count": 4,
   "id": "4877f681",
   "metadata": {},
   "outputs": [
    {
     "data": {
      "text/plain": [
       "0"
      ]
     },
     "execution_count": 4,
     "metadata": {},
     "output_type": "execute_result"
    }
   ],
   "source": [
    "#checking duplicates\n",
    "duplicates =bird_data.duplicated(keep=False)\n",
    "duplicates.sum()"
   ]
  },
  {
   "cell_type": "code",
   "execution_count": 5,
   "id": "868d82b4",
   "metadata": {},
   "outputs": [],
   "source": [
    "#spliting and cleaning actually 0-0\n",
    "def splitData(classes,features):\n",
    "    #filter classes\n",
    "    filtered_bird_data=bird_data[bird_data['bird category'].isin(classes)]\n",
    "    X=filtered_bird_data.drop(columns='bird category')\n",
    "    Y=filtered_bird_data['bird category']\n",
    "    #split the data\n",
    "    X_train, X_test, y_train, y_test = train_test_split(X, Y, test_size=0.4,stratify=Y,shuffle=True)\n",
    "    #filter features\n",
    "    X_train=X_train[features]\n",
    "    X_test=X_test[features]\n",
    "    \n",
    "    #encoding the categorical values\n",
    "    if 'gender' in X_train.columns:\n",
    "        enconder = LabelEncoder()\n",
    "        X_train['gender'] = enconder.fit_transform(X_train['gender'])\n",
    "        X_test['gender']=enconder.transform(X_test['gender'])\n",
    "        y_train = enconder.fit_transform(y_train)\n",
    "        y_test = enconder.transform(y_test)\n",
    "\n",
    "\n",
    "    #scaling the data\n",
    "    y_train = y_train.reshape(-1, 1)\n",
    "    y_test = y_test.reshape(-1, 1)\n",
    "    scaler = MinMaxScaler(feature_range=(-1, 1))\n",
    "    X_train[[col for col in X_train.columns if col != 'gender']] = scaler.fit_transform(\n",
    "    X_train[[col for col in X_train.columns if col != 'gender']]\n",
    "    )\n",
    "    X_test[[col for col in X_test.columns if col != 'gender']] = scaler.fit_transform(\n",
    "    X_test[[col for col in X_test.columns if col != 'gender']]\n",
    "    )\n",
    "    y_train = scaler.fit_transform(y_train)\n",
    "    y_test = scaler.transform(y_test)\n",
    "    \n",
    "    return X_train, X_test, y_train, y_test\n",
    "\n",
    "X_train, X_test, y_train, y_test=splitData(['A','B'],['gender','body_mass']) "
   ]
  },
  {
   "cell_type": "markdown",
   "id": "c99e723f",
   "metadata": {},
   "source": [
    "## Logic"
   ]
  },
  {
   "cell_type": "code",
   "execution_count": 6,
   "id": "1d44c523",
   "metadata": {},
   "outputs": [],
   "source": [
    "#activation function\n",
    "def signum(x):\n",
    "    if x>0:\n",
    "        return 1\n",
    "    elif x<0:\n",
    "        return -1\n",
    "    else:\n",
    "        return 0\n",
    "      "
   ]
  },
  {
   "cell_type": "code",
   "execution_count": 7,
   "id": "9dc06a0c",
   "metadata": {},
   "outputs": [],
   "source": [
    "\n",
    "def preceptron(epochs,eta,mse_threshold,is_bias):\n",
    "    train_features=X_train.to_numpy()\n",
    "    if is_bias: \n",
    "        train_features=np.column_stack((np.ones((train_features.shape[0],1)),train_features))\n",
    "        \n",
    "    weights=np.random.rand(train_features.shape[1])\n",
    "    \n",
    "    for epoch in range(epochs):\n",
    "        preds=[]\n",
    "        for i in range(len(train_features)):\n",
    "            x=np.dot(train_features[i],weights)\n",
    "            predection=signum(x)\n",
    "            preds.append(predection)\n",
    "            error=y_train[i]-predection\n",
    "            if error!=0:\n",
    "                weights+=eta*error*train_features[i]\n",
    "\n",
    "        mse=np.mean((y_train - np.dot(train_features, weights))**2)\n",
    "        if mse<mse_threshold:\n",
    "            break\n",
    "\n",
    "    return weights,preds    \n",
    "             \n",
    "weights,predPercepton=preceptron(1000,0.001,0.02,False)\n"
   ]
  },
  {
   "cell_type": "code",
   "execution_count": 8,
   "id": "5583da30",
   "metadata": {},
   "outputs": [],
   "source": [
    "\n",
    "def adaline(epochs,eta,mse_threshold,is_bias):\n",
    "    train_features=X_train.to_numpy()\n",
    "\n",
    "    if is_bias: \n",
    "        train_features=np.column_stack((np.ones((train_features.shape[0],1)),train_features))\n",
    "        \n",
    "    weights=np.random.rand(train_features.shape[1])\n",
    "    \n",
    "    for epoch in range(epochs):\n",
    "        preds=[]\n",
    "        total_error=0\n",
    "        for i in range(len(train_features)):\n",
    "            x=np.dot(train_features[i],weights)\n",
    "            error=y_train[i]-x       \n",
    "            total_error+=error+train_features[i]\n",
    "            preds.append(np.dot(train_features[i],weights)) \n",
    "        weights+=eta*(total_error/len(train_features))*train_features[i]\n",
    "        mse=np.mean((y_train - np.dot(train_features, weights))**2)\n",
    "        if mse<mse_threshold:\n",
    "            break\n",
    "\n",
    "    return weights,preds   \n",
    "             \n",
    "weights,predAdaline=adaline(1000,0.001,0.02,False)"
   ]
  },
  {
   "cell_type": "code",
   "execution_count": 9,
   "id": "598e3ee7",
   "metadata": {},
   "outputs": [
    {
     "name": "stdout",
     "output_type": "stream",
     "text": [
      "0.25 [[13  8]\n",
      " [ 7 12]]\n"
     ]
    }
   ],
   "source": [
    "#test function on both models\n",
    "def test(is_bias):\n",
    "    test_features = X_test.to_numpy()\n",
    "    TP=0\n",
    "    TN=0\n",
    "    FP=0\n",
    "    FN=0\n",
    "    if is_bias:\n",
    "        test_features = np.column_stack((np.ones((test_features.shape[0], 1)), test_features))\n",
    "    \n",
    "    for i in range(len(test_features)):\n",
    "        predection=signum(np.dot(test_features[i], weights))\n",
    "        if predection>0 and y_test[i]>0:\n",
    "            TP+=1\n",
    "        elif predection<0 and y_test[i]<0:\n",
    "            TN+=1\n",
    "        elif predection>0 and y_test[i]<0:\n",
    "            FP+=1\n",
    "        else:\n",
    "            FN+=1            \n",
    "\n",
    "    confusion_matrix = np.array([[TP, FP], [FN, TN]])\n",
    "    error=round((FP+FN)/len(X_train),4)\n",
    "    return error,confusion_matrix\n",
    "error,confusion_matrix= test(False)\n",
    "print(error, confusion_matrix)\n",
    "\n",
    "\n"
   ]
  },
  {
   "cell_type": "markdown",
   "id": "1014c5f8",
   "metadata": {},
   "source": [
    "## Plot"
   ]
  },
  {
   "cell_type": "code",
   "execution_count": 17,
   "id": "bc1f8bb2",
   "metadata": {},
   "outputs": [
    {
     "data": {
      "image/png": "[encoded data removed]",
      "text/plain": [
       "<Figure size 800x500 with 1 Axes>"
      ]
     },
     "metadata": {},
     "output_type": "display_data"
    }
   ],
   "source": [
    "import numpy as np\n",
    "import matplotlib.pyplot as plt\n",
    "\n",
    "# Plotting the scatter plot of training data\n",
    "plt.figure(figsize=(8, 5))\n",
    "plt.scatter(X_train.iloc[:, 0], X_train.iloc[:, 1], c=y_train, cmap='coolwarm', label='Training Data')\n",
    "\n",
    "# Generate x values for the line (range based on X_train's first column)\n",
    "x_vals = np.linspace(X_train.iloc[:, 0].min(), X_train.iloc[:, 0].max(), 100)\n",
    "\n",
    "# Calculate y values based on weights (assuming weights[0] is for x and weights[1] is for y)\n",
    "# If you have an intercept (bias), add it to the formula as needed.\n",
    "# y_vals = -(weights[0] / weights[1]) * x_vals - (bias / weights[1])\n",
    "y_vals = -(weights[0] / weights[1]) * x_vals  # Adjust based on your weights array structure\n",
    "\n",
    "# Plot the Adaline best-fit line\n",
    "plt.plot(x_vals, y_vals, color='green', label='Adaline Best Line')\n",
    "\n",
    "# Adding plot details\n",
    "plt.xlabel(\"Feature 1\")\n",
    "plt.ylabel(\"Feature 2\")\n",
    "plt.title(\"Adaline Classifier - Decision Boundary\")\n",
    "plt.legend()\n",
    "\n",
    "# Show the plot\n",
    "plt.show()\n"
   ]
  },
  {
   "cell_type": "markdown",
   "id": "2188d689",
   "metadata": {},
   "source": [
    "## GUI"
   ]
  },
  {
   "cell_type": "markdown",
   "id": "c36cc40d",
   "metadata": {},
   "source": [
    "#variable of GUI"
   ]
  },
  {
   "cell_type": "code",
   "execution_count": 11,
   "id": "546e94a3",
   "metadata": {},
   "outputs": [],
   "source": [
    "import tkinter as tk\n",
    "from tkinter import ttk\n",
    "\n",
    "root = tk.Tk()\n",
    "root.configure(background=\"#252938\")\n",
    "root.title(\"Simple Layer Perceptron\")\n",
    "root.geometry(\"1280x720\") \n",
    "\n",
    "accuracyResult = 0\n",
    "accuracyString = f\"{accuracyResult}%\"\n",
    "first_class = 'A'\n",
    "second_class = 'B'\n",
    "TP = 0\n",
    "FP = 0\n",
    "TN = 0\n",
    "FN = 0\n",
    "actualStr = f\"{first_class}     Actual      {second_class}\"\n",
    "\n",
    "learning_rate_input = tk.StringVar()\n",
    "MSE_threshold_input = tk.StringVar()\n",
    "epochs_input = tk.StringVar()\n"
   ]
  },
  {
   "cell_type": "code",
   "execution_count": 12,
   "id": "2b23bb43",
   "metadata": {},
   "outputs": [],
   "source": [
    "\n",
    "root.grid_rowconfigure(0, weight=35, minsize=500)  \n",
    "root.grid_rowconfigure(1, weight=5) \n",
    "root.grid_columnconfigure(0, weight=9) \n",
    "root.grid_columnconfigure(1, weight=4, minsize=350)  \n",
    "\n",
    "frame1 = tk.Frame(root, bg=\"#2C3546\")\n",
    "frame1.grid(row=0, column=0, sticky=\"nsew\", padx=(30, 15), pady=(30, 15))\n",
    "\n",
    "frame2 = tk.Frame(root, bg=\"#2C3546\")\n",
    "frame2.grid(row=1, column=0, sticky=\"nsew\", padx=(30, 15), pady=(15, 30))\n",
    "\n",
    "frame3 = tk.Frame(root, bg=\"#2C3546\")\n",
    "frame3.grid(row=0, column=1, rowspan=2, sticky=\"nsew\", padx=(15, 30), pady=30)\n",
    "\n",
    "\n",
    "accuracy_frame = tk.Frame(frame3, bg=\"#2C3546\")\n",
    "accuracy_frame.pack(pady=20, anchor='nw', fill='x')  \n",
    "\n",
    "\n",
    "accuracy_label = tk.Label(accuracy_frame, text=\"Accuracy\", bg=\"#2C3546\", fg=\"#C3C3C3\", font=(\"Poppins SemiBold\", 20))\n",
    "accuracy_label.pack(anchor=\"nw\", pady=(0, 5), padx=20)  \n",
    "\n",
    "result_frame = tk.Frame(accuracy_frame, bg=\"#2C3546\")\n",
    "result_frame.pack(fill='x')  \n",
    "\n",
    "accuracy_Res = tk.Label(result_frame, text=accuracyString, bg=\"#2C3546\", fg=\"#00C7AE\", font=(\"Poppins SemiBold\", 64))\n",
    "accuracy_Res.pack(anchor=\"center\")\n",
    "\n",
    "actualLabel = tk.Label(result_frame, text=actualStr, bg=\"#2C3546\", fg=\"#C3C3C3\", font=(\"Poppins SemiBold\", 16))\n",
    "actualLabel.pack(anchor=\"center\", pady=(60, 0)) \n",
    "\n",
    "left_frame = tk.Frame(frame3, bg=\"#2C3546\")\n",
    "left_frame.pack(side='left', fill='both', expand=True)\n",
    "\n",
    "color_frame = tk.Frame(left_frame, bg=\"#2C3546\")\n",
    "color_frame.pack(pady=(0, 150), padx=60, anchor='center', fill='both', expand=True)\n",
    "\n",
    "color1 = tk.Frame(color_frame, bg=\"#4591BD\")\n",
    "color1.grid(row=0, column=0, sticky=\"nsew\")\n",
    "\n",
    "color2 = tk.Frame(color_frame, bg=\"#DBEAF2\")\n",
    "color2.grid(row=0, column=1, sticky=\"nsew\")\n",
    "\n",
    "color3 = tk.Frame(color_frame, bg=\"#A7CBE0\")\n",
    "color3.grid(row=1, column=0, sticky=\"nsew\")\n",
    "\n",
    "color4 = tk.Frame(color_frame, bg=\"#6FAACC\")\n",
    "color4.grid(row=1, column=1, sticky=\"nsew\")\n",
    "\n",
    "color_frame.grid_rowconfigure(0, weight=1)\n",
    "color_frame.grid_rowconfigure(1, weight=1)\n",
    "color_frame.grid_columnconfigure(0, weight=1)\n",
    "color_frame.grid_columnconfigure(1, weight=1)\n",
    "\n",
    "vertical_label1 = tk.Label(left_frame, text=\"A\", bg=\"#2C3546\", fg=\"#C3C3C3\", font=(\"Poppins SemiBold\", 16))\n",
    "vertical_label2 = tk.Label(left_frame, text=\"B\", bg=\"#2C3546\", fg=\"#C3C3C3\", font=(\"Poppins SemiBold\", 16))\n",
    "\n",
    "\n",
    "vertical_label1.place(relx=0.1, rely=0.1, anchor='center') \n",
    "vertical_label2.place(relx=0.1, rely=0.5, anchor='center')  \n",
    "\n",
    "\n",
    "label1 = tk.Label(color1, text=TP, bg=\"#4591BD\", fg=\"#FFFFFF\", font=(\"Poppins SemiBold\", 16))\n",
    "label1.pack(expand=True)\n",
    "\n",
    "label2 = tk.Label(color2, text=FP, bg=\"#DBEAF2\", fg=\"#000000\", font=(\"Poppins SemiBold\", 16))\n",
    "label2.pack(expand=True)\n",
    "\n",
    "label3 = tk.Label(color3, text=FN, bg=\"#A7CBE0\", fg=\"#000000\", font=(\"Poppins SemiBold\", 16))\n",
    "label3.pack(expand=True)\n",
    "\n",
    "label4 = tk.Label(color4, text=TN, bg=\"#6FAACC\", fg=\"#FFFFFF\", font=(\"Poppins SemiBold\", 16))\n",
    "label4.pack(expand=True)\n",
    "\n",
    "combo_frame = tk.Frame(frame2, bg=\"#2C3546\")\n",
    "combo_frame.grid(row=0, column=0, padx=(20, 20), pady=(35, 20), sticky=\"nsew\")\n",
    "\n",
    "\n",
    "style = ttk.Style()\n",
    "style.configure(\"Custom.TCombobox\",\n",
    "                font=(\"Poppins SemiBold\", 24), \n",
    "                foreground=\"#1e1e1e\",\n",
    "                background=\"#2C3546\",\n",
    "                fieldbackground=\"#2C3546\", \n",
    "                bordercolor=\"#C3C3C3\",\n",
    "                relief=\"flat\")\n",
    "\n",
    "combo_label1 = tk.Label(combo_frame, text=\"Classes:\", bg=\"#2C3546\", fg=\"#00C7AE\", font=(\"Poppins SemiBold\", 16))\n",
    "combo_label1.pack(anchor=\"w\")\n",
    "\n",
    "classes_options = [\"A, B\", \"A, C\", \"B, C\"]\n",
    "combo_box1 = ttk.Combobox(combo_frame, values=classes_options, state=\"readonly\", style=\"Custom.TCombobox\")\n",
    "combo_box1.set(\"Select classes combination\")\n",
    "combo_box1.pack(pady=(0, 10))\n",
    "\n",
    "combo_label2 = tk.Label(combo_frame, text=\"Features:\", bg=\"#2C3546\", fg=\"#00C7AE\", font=(\"Poppins SemiBold\", 16))\n",
    "combo_label2.pack(anchor=\"w\")\n",
    "\n",
    "features_options = [\"Gender & Body mass\", \"Gender & Beak length\", \"Gender & Beak depth\", \"Gender & fin length\", \n",
    "                  \"Body mass & Beak length\", \"Body mass & Beak depth\", \"Body mass & fin length\", \"Beak length & Beak depth\", \n",
    "                  \"Beak length & fin length\", \"Beak depth & fin length\"\n",
    "                ]\n",
    "combo_box2 = ttk.Combobox(combo_frame, values=features_options, state=\"readonly\", style=\"Custom.TCombobox\")\n",
    "combo_box2.set(\"Select features combination\") \n",
    "combo_box2.pack(pady=(0, 10))\n",
    "\n",
    "\n",
    "entry_frame = tk.Frame(frame2, bg=\"#2C3546\")\n",
    "entry_frame.grid(row=0, column=1, padx=(20, 10), sticky=\"nsew\", pady=(30, 20))\n",
    "\n",
    "entry_label1 = tk.Label(entry_frame, text=\"Learning rate:\", bg=\"#2C3546\", fg=\"#00C7AE\", font=(\"Poppins SemiBold\", 16))\n",
    "entry_label1.grid(row=0, column=0, sticky=\"w\", pady=(0, 5))\n",
    "\n",
    "entry1 = tk.Entry(entry_frame, textvariable=learning_rate_input, font=(\"Poppins SemiBold\", 14),\n",
    "                   bd=2, highlightthickness=1, highlightbackground=\"#C3C3C3\", highlightcolor=\"#C3C3C3\", bg=\"#2C3546\", fg=\"#00C7AE\")\n",
    "entry1.grid(row=0, column=1, pady=(0, 10))\n",
    "entry1.insert(0,\" \")\n",
    "\n",
    "entry_label2 = tk.Label(entry_frame, text=\"MSE threshold:\", bg=\"#2C3546\", fg=\"#00C7AE\", font=(\"Poppins SemiBold\", 16))\n",
    "entry_label2.grid(row=1, column=0, sticky=\"w\", pady=(10, 5))\n",
    "\n",
    "entry2 = tk.Entry(entry_frame, textvariable=MSE_threshold_input, font=(\"Poppins SemiBold\", 14),\n",
    "                   bd=2, highlightthickness=1, highlightbackground=\"#C3C3C3\", highlightcolor=\"#C3C3C3\", bg=\"#2C3546\", fg=\"#00C7AE\")\n",
    "entry2.grid(row=1, column=1, pady=(0, 10))\n",
    "entry2.insert(0,\" \")\n",
    "\n",
    "\n",
    "entry_label3 = tk.Label(entry_frame, text=\"Epochs:\", bg=\"#2C3546\", fg=\"#00C7AE\", font=(\"Poppins SemiBold\", 16))\n",
    "entry_label3.grid(row=2, column=0, sticky=\"w\", pady=(10, 5)) \n",
    "\n",
    "entry3 = tk.Entry(entry_frame, textvariable=epochs_input, font=(\"Poppins SemiBold\", 14),\n",
    "                   bd=2, highlightthickness=1, highlightbackground=\"#C3C3C3\", highlightcolor=\"#C3C3C3\", bg=\"#2C3546\", fg=\"#00C7AE\")\n",
    "entry3.grid(row=2, column=1, pady=(0, 5))\n",
    "entry3.insert(0,\" \")\n",
    "\n",
    "\n",
    "checkbox_frame = tk.Frame(frame2, bg=\"#2C3546\")\n",
    "checkbox_frame.grid(row=0, column=2, padx=(50, 0), sticky=\"nsew\", pady=(25, 10)) \n",
    "\n",
    "adaline_var = tk.BooleanVar()\n",
    "checkbox1 = tk.Checkbutton(checkbox_frame, text=\"Adaline\", variable=adaline_var, bg=\"#2C3546\", fg=\"#00C7AE\", font=(\"Poppins SemiBold\", 16), selectcolor=\"#2C3546\", activebackground=\"#2C3546\", bd=2, highlightthickness=1, highlightbackground=\"#C3C3C3\")\n",
    "checkbox1.pack(anchor=\"w\", pady=(0, 5)) \n",
    "\n",
    "bias_var = tk.BooleanVar()\n",
    "checkbox2 = tk.Checkbutton(checkbox_frame, text=\"Bias\", variable=bias_var, bg=\"#2C3546\", fg=\"#00C7AE\", font=(\"Poppins SemiBold\", 16), selectcolor=\"#2C3546\", activebackground=\"#2C3546\", bd=2, highlightthickness=1, highlightbackground=\"#C3C3C3\")\n",
    "checkbox2.pack(anchor=\"w\", pady=(0, 20)) \n",
    "\n",
    "\n",
    "# # Button\n",
    "# submit_button = tk.Button(checkbox_frame, text=\"Submit\", bg=\"#00C7AE\", fg=\"#FFFFFF\", font=(\"Poppins SemiBold\", 16))\n",
    "# submit_button.pack(pady=(0, 5))  # Align center below checkboxes\n",
    "\n",
    "\n",
    "def on_submit():\n",
    "    print(\"Submitted!\")\n",
    "\n",
    "def create_rounded_button(parent, text, command, radius=20, width=150, height=40, bg_color=\"#00C7AE\", fg_color=\"white\"):\n",
    "    canvas = tk.Canvas(parent, width=width, height=height, bg=\"#2C3546\", highlightthickness=0)\n",
    "\n",
    "    def draw_button(bg_color):\n",
    "        canvas.delete(\"all\")\n",
    "\n",
    "        canvas.create_arc((0, 0, radius * 2, radius * 2), start=90, extent=180, fill=bg_color, outline=bg_color)\n",
    "        canvas.create_arc((width - radius * 2, 0, width, radius * 2), start=0, extent=180, fill=bg_color, outline=bg_color)\n",
    "        canvas.create_arc((0, height - radius * 2, radius * 2, height), start=180, extent=180, fill=bg_color, outline=bg_color)\n",
    "        canvas.create_arc((width - radius * 2, height - radius * 2, width, height), start=270, extent=180, fill=bg_color, outline=bg_color)\n",
    "        \n",
    "        canvas.create_rectangle((radius, 0, width - radius, height), fill=bg_color, outline=bg_color)\n",
    "        canvas.create_rectangle((0, radius, width, height - radius), fill=bg_color, outline=bg_color)\n",
    "\n",
    "        canvas.create_text(width // 2, height // 2, text=text, fill=fg_color, font=(\"Poppins SemiBold\", 14))\n",
    "\n",
    "    draw_button(bg_color)\n",
    "\n",
    "    def on_button_press(event):\n",
    "        draw_button(\"#006A97\")\n",
    "\n",
    "    def on_button_release(event):\n",
    "        draw_button(bg_color)\n",
    "        command()\n",
    "\n",
    "    canvas.bind(\"<ButtonPress-1>\", on_button_press)\n",
    "    canvas.bind(\"<ButtonRelease-1>\", on_button_release)\n",
    "    canvas.pack(pady=(10, 0))\n",
    "\n",
    "    return \n",
    "\n",
    "create_rounded_button(checkbox_frame, \"Submit\", on_submit)\n",
    "\n",
    "root.mainloop()\n"
   ]
  }
 ],
 "metadata": {
  "kernelspec": {
   "display_name": "base",
   "language": "python",
   "name": "python3"
  },
  "language_info": {
   "codemirror_mode": {
    "name": "ipython",
    "version": 3
   },
   "file_extension": ".py",
   "mimetype": "text/x-python",
   "name": "python",
   "nbconvert_exporter": "python",
   "pygments_lexer": "ipython3",
   "version": "3.11.5"
  }
 },
 "nbformat": 4,
 "nbformat_minor": 5
}
